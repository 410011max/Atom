{
 "cells": [
  {
   "cell_type": "code",
   "execution_count": 5,
   "metadata": {},
   "outputs": [
    {
     "name": "stdout",
     "output_type": "stream",
     "text": [
      "Results have been successfully saved to results_summary.csv.\n"
     ]
    }
   ],
   "source": [
    "import os\n",
    "import csv\n",
    "\n",
    "# 設定 w 和 a 的範圍\n",
    "w_values = [1.0, 0.95, 0.9, 0.85, 0.8, 0.75, 0.7, 0.65, 0.6]\n",
    "a_values = [1.0, 0.95, 0.9, 0.85, 0.8, 0.75, 0.7, 0.65, 0.6]\n",
    "\n",
    "# 創建一個空的結果字典\n",
    "results = {w: {a: None for a in a_values} for w in w_values}\n",
    "\n",
    "# 遍歷所有檔案\n",
    "for w in w_values:\n",
    "    for a in a_values:\n",
    "        filename = f\"llama3_8b_w{w}_a{a}.txt\"\n",
    "        file_path = os.path.join(filename)\n",
    "        try:\n",
    "            with open(file_path, 'r') as file:\n",
    "                for line in file:\n",
    "                    if 'targetResult' in line:\n",
    "                        result = float(line.split(',')[-1].strip())\n",
    "                        results[w][a] = result\n",
    "                        break\n",
    "        except FileNotFoundError:\n",
    "            print(f\"File not found: {file_path}\")\n",
    "\n",
    "# 指定CSV檔案的儲存位置\n",
    "csv_file_path = 'results_summary.csv'\n",
    "\n",
    "# 將結果寫入CSV檔案\n",
    "with open(csv_file_path, mode='w', newline='') as file:\n",
    "    csv_writer = csv.writer(file)\n",
    "    # 寫入標題行\n",
    "    headers = ['w/a'] + [f'a={a}' for a in a_values]\n",
    "    csv_writer.writerow(headers)\n",
    "    # 寫入每一行數據\n",
    "    for w in w_values:\n",
    "        row = [f'w={w}'] + [results[w][a] if results[w][a] is not None else 'N/A' for a in a_values]\n",
    "        csv_writer.writerow(row)\n",
    "\n",
    "print(f\"Results have been successfully saved to {csv_file_path}.\")\n"
   ]
  }
 ],
 "metadata": {
  "kernelspec": {
   "display_name": "atom",
   "language": "python",
   "name": "python3"
  },
  "language_info": {
   "codemirror_mode": {
    "name": "ipython",
    "version": 3
   },
   "file_extension": ".py",
   "mimetype": "text/x-python",
   "name": "python",
   "nbconvert_exporter": "python",
   "pygments_lexer": "ipython3",
   "version": "3.10.13"
  }
 },
 "nbformat": 4,
 "nbformat_minor": 2
}
